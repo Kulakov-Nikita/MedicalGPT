{
 "cells": [
  {
   "cell_type": "code",
   "execution_count": 43,
   "metadata": {},
   "outputs": [],
   "source": [
    "from langchain.chat_models.gigachat import GigaChat\n",
    "from langchain.document_loaders import TextLoader\n",
    "from langchain.text_splitter import RecursiveCharacterTextSplitter\n",
    "from chromadb.config import Settings\n",
    "from langchain.vectorstores import Chroma\n",
    "from langchain_community.embeddings.gigachat import GigaChatEmbeddings"
   ]
  },
  {
   "cell_type": "code",
   "execution_count": 44,
   "metadata": {},
   "outputs": [],
   "source": [
    "llm = GigaChat(credentials=\"NWM1MDQxOWYtNzk0Yi00NzI4LTkxNTctNTY5YWFjYzcyM2MxOjc3MGVmZTdiLTYzNzUtNGE3OC1iN2Y0LTU5ODNiNWJjYWZjNQ==\", verify_ssl_certs=False)"
   ]
  },
  {
   "cell_type": "code",
   "execution_count": 45,
   "metadata": {},
   "outputs": [],
   "source": [
    "from langchain.schema import HumanMessage\n",
    "\n",
    "question = \"У меня на правой ягодице пятно зеленого цвета.\"\n",
    "question = f\"Выдели ключевые слова, необходимые для поиска медицинских документов для ответа на вопросы по этой теме: '{question}'. Перечисли слова через запятую.\"\n",
    "text = llm([HumanMessage(content=question)]).content[0:200]\n"
   ]
  },
  {
   "cell_type": "code",
   "execution_count": 46,
   "metadata": {},
   "outputs": [
    {
     "name": "stdout",
     "output_type": "stream",
     "text": [
      "['пятно зеленого цвета', 'ягодица правая']\n"
     ]
    }
   ],
   "source": [
    "import re\n",
    "pattern = r'\"(.*?)\"'\n",
    "matches = re.findall(pattern, text)\n",
    "print(matches)"
   ]
  },
  {
   "cell_type": "code",
   "execution_count": 47,
   "metadata": {},
   "outputs": [],
   "source": [
    "import urllib\n",
    "import requests\n",
    "\n",
    "def get_links(keyword: str, limit: int = 3) -> tuple[list, int]:\n",
    "    f = {\"q\":keyword,\"type\":\"clinical\", \"offset\":\"0\", \"limit\":f\"{limit}\"}\n",
    "    url = \"https://demo.onco-reg.ru/docs/api?\" + urllib.parse.urlencode(f)\n",
    "    answer = requests.get(url).json()\n",
    "    number_of_pdf: int = int(answer['result']['total'])\n",
    "    return [doc['link'] for doc in answer['result']['documents']], number_of_pdf"
   ]
  },
  {
   "cell_type": "code",
   "execution_count": 48,
   "metadata": {},
   "outputs": [
    {
     "data": {
      "text/plain": [
       "{'https://demo.oncor.pro/docs/oncor-docs/clinical-guidelines/other/uvealnaya_melanoma.pdf',\n",
       " 'https://demo.oncor.pro/docs/oncor-docs/clinical-guidelines/procto/rak_analnogo_kanala.pdf',\n",
       " 'https://demo.oncor.pro/docs/oncor-docs/clinical-guidelines/procto/rak_analnogo_kanala_2024.pdf',\n",
       " 'https://demo.oncor.pro/docs/oncor-docs/clinical-guidelines/skin/melanoma_kozhi_deti.pdf'}"
      ]
     },
     "execution_count": 48,
     "metadata": {},
     "output_type": "execute_result"
    }
   ],
   "source": [
    "links = set()\n",
    "for keyword in matches:\n",
    "    x, y = get_links(keyword=keyword)\n",
    "    for link in x:\n",
    "        links.add(link)\n",
    "        \n",
    "links"
   ]
  },
  {
   "cell_type": "code",
   "execution_count": 49,
   "metadata": {},
   "outputs": [],
   "source": [
    "from pdfminer.high_level import extract_text\n",
    "import io\n",
    "\n",
    "PDFs = '\\n'.join([extract_text(io.BytesIO(requests.get(link).content)) for link in links])"
   ]
  },
  {
   "cell_type": "code",
   "execution_count": 50,
   "metadata": {},
   "outputs": [],
   "source": [
    "with open(\"tmp.txt\", 'w+', encoding='utf-8') as file:\n",
    "    file.write(PDFs)"
   ]
  }
 ],
 "metadata": {
  "kernelspec": {
   "display_name": "venv",
   "language": "python",
   "name": "python3"
  },
  "language_info": {
   "codemirror_mode": {
    "name": "ipython",
    "version": 3
   },
   "file_extension": ".py",
   "mimetype": "text/x-python",
   "name": "python",
   "nbconvert_exporter": "python",
   "pygments_lexer": "ipython3",
   "version": "3.11.9"
  }
 },
 "nbformat": 4,
 "nbformat_minor": 2
}
