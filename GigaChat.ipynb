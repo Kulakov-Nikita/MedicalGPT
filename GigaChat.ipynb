{
 "cells": [
  {
   "cell_type": "code",
   "execution_count": 2,
   "metadata": {},
   "outputs": [],
   "source": [
    "from langchain.chat_models.gigachat import GigaChat\n",
    "from langchain.document_loaders import TextLoader\n",
    "from langchain.text_splitter import RecursiveCharacterTextSplitter\n",
    "from chromadb.config import Settings\n",
    "from langchain.vectorstores import Chroma\n",
    "from langchain_community.embeddings.gigachat import GigaChatEmbeddings"
   ]
  },
  {
   "cell_type": "markdown",
   "metadata": {},
   "source": [
    "<h3>На будущее</h3><p>\n",
    "<b>Client Secret:</b> 770efe7b-6375-4a78-b7f4-5983b5bcafc5<p>\n",
    "<b>Авторизационные данные:</b> NWM1MDQxOWYtNzk0Yi00NzI4LTkxNTctNTY5YWFjYzcyM2MxOjc3MGVmZTdiLTYzNzUtNGE3OC1iN2Y0LTU5ODNiNWJjYWZjNQ=="
   ]
  },
  {
   "cell_type": "code",
   "execution_count": 3,
   "metadata": {},
   "outputs": [],
   "source": [
    "llm = GigaChat(credentials=\"NWM1MDQxOWYtNzk0Yi00NzI4LTkxNTctNTY5YWFjYzcyM2MxOjc3MGVmZTdiLTYzNzUtNGE3OC1iN2Y0LTU5ODNiNWJjYWZjNQ==\", verify_ssl_certs=False)"
   ]
  },
  {
   "cell_type": "markdown",
   "metadata": {},
   "source": [
    "<b>Подготовка документа"
   ]
  },
  {
   "cell_type": "code",
   "execution_count": 6,
   "metadata": {},
   "outputs": [
    {
     "name": "stdout",
     "output_type": "stream",
     "text": [
      "Total documents: 742\n"
     ]
    }
   ],
   "source": [
    "loader = TextLoader(\"tmp.txt\", encoding='utf-8')\n",
    "documents = loader.load()\n",
    "text_splitter = RecursiveCharacterTextSplitter(\n",
    "    chunk_size=1000,\n",
    "    chunk_overlap=200,\n",
    ")\n",
    "documents = text_splitter.split_documents(documents)\n",
    "print(f\"Total documents: {len(documents)}\")"
   ]
  },
  {
   "cell_type": "code",
   "execution_count": 7,
   "metadata": {},
   "outputs": [],
   "source": [
    "embeddings = GigaChatEmbeddings(\n",
    "    credentials=\"NWM1MDQxOWYtNzk0Yi00NzI4LTkxNTctNTY5YWFjYzcyM2MxOjc3MGVmZTdiLTYzNzUtNGE3OC1iN2Y0LTU5ODNiNWJjYWZjNQ==\", verify_ssl_certs=False\n",
    ")\n"
   ]
  },
  {
   "cell_type": "code",
   "execution_count": 9,
   "metadata": {},
   "outputs": [],
   "source": [
    "db = Chroma.from_documents(\n",
    "     documents,\n",
    "     embeddings,\n",
    "     client_settings=Settings(anonymized_telemetry=False),\n",
    " )"
   ]
  },
  {
   "cell_type": "code",
   "execution_count": 10,
   "metadata": {},
   "outputs": [],
   "source": [
    "from langchain.chains import RetrievalQA\n",
    "\n",
    "qa_chain = RetrievalQA.from_chain_type(llm, retriever=db.as_retriever())"
   ]
  },
  {
   "cell_type": "code",
   "execution_count": 13,
   "metadata": {},
   "outputs": [
    {
     "data": {
      "text/plain": [
       "{'query': 'Сисмптомом какой болезни могут быть зелёные пятна на коже?',\n",
       " 'result': 'Зелёные пятна на коже могут быть симптомом порфирии.'}"
      ]
     },
     "execution_count": 13,
     "metadata": {},
     "output_type": "execute_result"
    }
   ],
   "source": [
    "qa_chain({\"query\": \"Сисмптомом какой болезни могут быть зелёные пятна на коже?\"})"
   ]
  },
  {
   "cell_type": "code",
   "execution_count": 14,
   "metadata": {},
   "outputs": [
    {
     "data": {
      "text/plain": [
       "{'query': 'Чем можно лечить порфирию?',\n",
       " 'result': 'Не указано, чем можно лечить порфирию в данном контексте.'}"
      ]
     },
     "execution_count": 14,
     "metadata": {},
     "output_type": "execute_result"
    }
   ],
   "source": [
    "qa_chain({\"query\": \"Чем можно лечить порфирию?\"})"
   ]
  },
  {
   "cell_type": "code",
   "execution_count": 15,
   "metadata": {},
   "outputs": [
    {
     "data": {
      "text/plain": [
       "{'query': 'Какие ещё симптомы у порфирии?',\n",
       " 'result': 'Симптомы порфирии могут включать:\\n- Болезненность и чувствительность к свету, особенно к ультрафиолетовому излучению\\n- Кожные высыпания, включая пузыри, язвы, эритему и гиперпигментацию\\n- Боли в животе, тошноту, рвоту и диарею\\n- Нарушения психического состояния, такие как тревожность, депрессия и галлюцинации\\n- Снижение аппетита и потерю веса\\n- Повышенную утомляемость и слабость\\n- Почечную недостаточность и другие проблемы с органами'}"
      ]
     },
     "execution_count": 15,
     "metadata": {},
     "output_type": "execute_result"
    }
   ],
   "source": [
    "qa_chain({\"query\": \"Какие ещё симптомы у порфирии?\"})"
   ]
  }
 ],
 "metadata": {
  "kernelspec": {
   "display_name": "venv",
   "language": "python",
   "name": "python3"
  },
  "language_info": {
   "codemirror_mode": {
    "name": "ipython",
    "version": 3
   },
   "file_extension": ".py",
   "mimetype": "text/x-python",
   "name": "python",
   "nbconvert_exporter": "python",
   "pygments_lexer": "ipython3",
   "version": "3.11.9"
  }
 },
 "nbformat": 4,
 "nbformat_minor": 2
}
